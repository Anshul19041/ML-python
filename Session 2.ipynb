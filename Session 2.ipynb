{
 "cells": [
  {
   "cell_type": "code",
   "execution_count": 5,
   "id": "4b000c12",
   "metadata": {},
   "outputs": [
    {
     "data": {
      "text/plain": [
       "[1.2, 3, 4, 6, 'hey wassup', 0.8]"
      ]
     },
     "execution_count": 5,
     "metadata": {},
     "output_type": "execute_result"
    }
   ],
   "source": [
    "list = [1.2,3,4,6,\"hey wassup\",0.8]\n",
    "list"
   ]
  },
  {
   "cell_type": "code",
   "execution_count": 7,
   "id": "8c5db3ee",
   "metadata": {},
   "outputs": [
    {
     "data": {
      "text/plain": [
       "list"
      ]
     },
     "execution_count": 7,
     "metadata": {},
     "output_type": "execute_result"
    }
   ],
   "source": [
    "type(list)"
   ]
  },
  {
   "cell_type": "code",
   "execution_count": 11,
   "id": "f3d1b3a2",
   "metadata": {},
   "outputs": [
    {
     "data": {
      "text/plain": [
       "'change'"
      ]
     },
     "execution_count": 11,
     "metadata": {},
     "output_type": "execute_result"
    }
   ],
   "source": [
    "list[3] = \"change\"\n",
    "list[3]"
   ]
  },
  {
   "cell_type": "code",
   "execution_count": 18,
   "id": "0f83c05d",
   "metadata": {},
   "outputs": [
    {
     "name": "stdout",
     "output_type": "stream",
     "text": [
      "(12, 4, 'random', 34.343)\n"
     ]
    },
    {
     "data": {
      "text/plain": [
       "tuple"
      ]
     },
     "execution_count": 18,
     "metadata": {},
     "output_type": "execute_result"
    }
   ],
   "source": [
    "sample_tuple = (12,4,\"random\",34.343)\n",
    "print(sample_tuple)\n",
    "type(sample_tuple)\n",
    "\n",
    "#sample_tuple[0] = 3   \n",
    "#tuple is immutable: No changes allowed once it's declared\n",
    "\n"
   ]
  },
  {
   "cell_type": "code",
   "execution_count": 26,
   "id": "95a5bba5",
   "metadata": {},
   "outputs": [
    {
     "data": {
      "text/plain": [
       "{12, 1323, 2222, 33, 5, 65.5464, 'hey'}"
      ]
     },
     "execution_count": 26,
     "metadata": {},
     "output_type": "execute_result"
    }
   ],
   "source": [
    "sample_set = {12,33,\"hey\",12,5,65.5464,1323,2222}\n",
    "sample_set\n",
    "#set sorts automatically and does not allow duplicates"
   ]
  },
  {
   "cell_type": "code",
   "execution_count": 25,
   "id": "959f5bfa",
   "metadata": {},
   "outputs": [
    {
     "ename": "TypeError",
     "evalue": "'set' object is not subscriptable",
     "output_type": "error",
     "traceback": [
      "\u001b[1;31m---------------------------------------------------------------------------\u001b[0m",
      "\u001b[1;31mTypeError\u001b[0m                                 Traceback (most recent call last)",
      "Cell \u001b[1;32mIn[25], line 1\u001b[0m\n\u001b[1;32m----> 1\u001b[0m \u001b[38;5;28mprint\u001b[39m(\u001b[43msample_set\u001b[49m\u001b[43m[\u001b[49m\u001b[38;5;241;43m0\u001b[39;49m\u001b[43m]\u001b[49m)\n\u001b[0;32m      2\u001b[0m sample_set[\u001b[38;5;241m1\u001b[39m] \u001b[38;5;241m=\u001b[39m \u001b[38;5;124m\"\u001b[39m\u001b[38;5;124msgwrg\u001b[39m\u001b[38;5;124m\"\u001b[39m\n\u001b[0;32m      3\u001b[0m \u001b[38;5;28mprint\u001b[39m(sample_set[\u001b[38;5;241m1\u001b[39m])\n",
      "\u001b[1;31mTypeError\u001b[0m: 'set' object is not subscriptable"
     ]
    }
   ],
   "source": [
    "print(sample_set[0])\n",
    "sample_set[1] = \"sgwrg\"\n",
    "print(sample_set[1])\n",
    "#set object is not subscriptable"
   ]
  },
  {
   "cell_type": "code",
   "execution_count": 30,
   "id": "bec69c19",
   "metadata": {},
   "outputs": [
    {
     "data": {
      "text/plain": [
       "{12, 1323, 2222, 33, 5, 65.5464, 'here'}"
      ]
     },
     "execution_count": 30,
     "metadata": {},
     "output_type": "execute_result"
    }
   ],
   "source": [
    "sample_set.add(\"here\")\n",
    "sample_set.remove(\"hey\")\n",
    "sample_set\n",
    "#set is mutable, removes duplicates, sorts automatically"
   ]
  },
  {
   "cell_type": "code",
   "execution_count": 31,
   "id": "aa3016df",
   "metadata": {},
   "outputs": [
    {
     "data": {
      "text/plain": [
       "{1: 'fef', 5: 32.2, 4: 222, 2: 'wefew'}"
      ]
     },
     "execution_count": 31,
     "metadata": {},
     "output_type": "execute_result"
    }
   ],
   "source": [
    "sample_d = {1:\"fef\",5:32.2,4:222,2:\"wefew\"};\n",
    "sample_d"
   ]
  },
  {
   "cell_type": "code",
   "execution_count": 33,
   "id": "2ab0e7fc",
   "metadata": {},
   "outputs": [
    {
     "data": {
      "text/plain": [
       "{1: 'fef', 5: 32.2, 4: 333, 2: 'wefew', 3: 333}"
      ]
     },
     "execution_count": 33,
     "metadata": {},
     "output_type": "execute_result"
    }
   ],
   "source": [
    "sample_d[3]=333\n",
    "sample_d"
   ]
  },
  {
   "cell_type": "code",
   "execution_count": 34,
   "id": "6c9bb1b1",
   "metadata": {},
   "outputs": [
    {
     "ename": "KeyError",
     "evalue": "'fef'",
     "output_type": "error",
     "traceback": [
      "\u001b[1;31m---------------------------------------------------------------------------\u001b[0m",
      "\u001b[1;31mKeyError\u001b[0m                                  Traceback (most recent call last)",
      "Cell \u001b[1;32mIn[34], line 1\u001b[0m\n\u001b[1;32m----> 1\u001b[0m \u001b[43msample_d\u001b[49m\u001b[43m[\u001b[49m\u001b[38;5;124;43m\"\u001b[39;49m\u001b[38;5;124;43mfef\u001b[39;49m\u001b[38;5;124;43m\"\u001b[39;49m\u001b[43m]\u001b[49m\n",
      "\u001b[1;31mKeyError\u001b[0m: 'fef'"
     ]
    }
   ],
   "source": [
    "sample_d[\"fef\"]"
   ]
  },
  {
   "cell_type": "code",
   "execution_count": null,
   "id": "15c2c9d7",
   "metadata": {},
   "outputs": [],
   "source": []
  }
 ],
 "metadata": {
  "kernelspec": {
   "display_name": "Python 3 (ipykernel)",
   "language": "python",
   "name": "python3"
  },
  "language_info": {
   "codemirror_mode": {
    "name": "ipython",
    "version": 3
   },
   "file_extension": ".py",
   "mimetype": "text/x-python",
   "name": "python",
   "nbconvert_exporter": "python",
   "pygments_lexer": "ipython3",
   "version": "3.10.9"
  }
 },
 "nbformat": 4,
 "nbformat_minor": 5
}
